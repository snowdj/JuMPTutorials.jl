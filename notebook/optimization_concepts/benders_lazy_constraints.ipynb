{
 "cells": [
  {
   "cell_type": "markdown",
   "metadata": {},
   "source": [
    "# Benders Decomposition"
   ]
  },
  {
   "cell_type": "markdown",
   "metadata": {},
   "source": [
    "**Originally Contributed by**: Mathieu Besançon"
   ]
  },
  {
   "cell_type": "markdown",
   "metadata": {},
   "source": [
    "This notebook describes how to implement the Benders decomposition in JuMP using lazy constraints.\n",
    "We keep the same notation and problem form as the first notebook *Benders decomposition*."
   ]
  },
  {
   "cell_type": "markdown",
   "metadata": {},
   "source": [
    "\\begin{align*}\n",
    "& \\text{maximize} \\quad &&c_1^T x+c_2^T v \\\\\n",
    "& \\text{subject to} \\quad &&A_1 x+ A_2 v \\preceq b \\\\\n",
    "& &&x \\succeq 0, x \\in \\mathbb{Z}^n \\\\\n",
    "& &&v \\succeq 0, v \\in \\mathbb{R}^p \\\\\n",
    "\\end{align*}"
   ]
  },
  {
   "cell_type": "markdown",
   "metadata": {},
   "source": [
    "where $b \\in \\mathbb{R}^m$, $A_1 \\in \\mathbb{R}^{m \\times n}$, $A_2 \\in \\mathbb{R}^{m \\times p}$ and\n",
    "\\mathbb{Z} is the set of integers. \n",
    "Here the symbol $\\succeq$ ($\\preceq$) stands for element-wise greater (less) than or equal to. \n",
    "Any mixed integer programming problem can be written in the form above."
   ]
  },
  {
   "cell_type": "markdown",
   "metadata": {},
   "source": [
    "For a detailed explanation on the Benders decomposition algorithm, see the introduction notebook."
   ]
  },
  {
   "cell_type": "markdown",
   "metadata": {},
   "source": [
    "### Lazy constraints"
   ]
  },
  {
   "cell_type": "markdown",
   "metadata": {},
   "source": [
    "Some optimization solvers allow users to interact with them during the solution process\n",
    "by providing user-defined functions which are triggered under certain conditions.\n",
    "The generic term for these functions is **callback**.\n",
    "In integer optimization, the main callback types are lazy constraints, user cuts and heuristic solutions.\n",
    "See the [JuMP documentation](https://www.juliaopt.org/JuMP.jl/stable/callbacks/) for an introduction on how to use them.\n",
    "Some callbacks define a new constraint which is only activated when necessary, i.e.\n",
    "when a current solution does not respect them. It can avoid building an optimization model\n",
    "with too many constraints up-front.\n",
    "This is the case for Benders decomposition, since the sub-problem defines an exponential number of primal vertices\n",
    "and therefore dual cuts.\n",
    "\n",
    "A detailed explanation on the distinction between user cuts and lazy constraints is also available on\n",
    "[Paul Rubin's blog](https://orinanobworld.blogspot.com/2012/08/user-cuts-versus-lazy-constraints.html)."
   ]
  },
  {
   "cell_type": "markdown",
   "metadata": {},
   "source": [
    "We use the data from the original notebook and change the solution algorithm to leverage lazy constraints:"
   ]
  },
  {
   "cell_type": "markdown",
   "metadata": {},
   "source": [
    "**Step 1 (Initialization)** \n",
    "**Step 2 (defining the subproblem model)**\n",
    "**Step 3 (registering the lazy constraint of the subproblem)**"
   ]
  },
  {
   "cell_type": "markdown",
   "metadata": {},
   "source": [
    "### Data for the problem"
   ]
  },
  {
   "cell_type": "markdown",
   "metadata": {},
   "source": [
    "The input data is from page 139, Integer programming by Garfinkel and Nemhauser[[1]](#c1)."
   ]
  },
  {
   "cell_type": "code",
   "execution_count": 1,
   "metadata": {},
   "outputs": [],
   "source": [
    "c1 = [-1; -4]\n",
    "c2 = [-2; -3]\n",
    "\n",
    "dim_x = length(c1)\n",
    "dim_u = length(c2)\n",
    "\n",
    "b = [-2; -3]\n",
    "\n",
    "A1 = [1 -3;\n",
    "     -1 -3]\n",
    "A2 = [1 -2;\n",
    "     -1 -1]\n",
    "\n",
    "M = 1000;"
   ]
  },
  {
   "cell_type": "markdown",
   "metadata": {},
   "source": [
    "[Paul Rubin's blog on Benders Decomposition](http://orinanobworld.blogspot.ca/2011/10/benders-decomposition-then-and-now.html)."
   ]
  },
  {
   "cell_type": "code",
   "execution_count": 2,
   "metadata": {},
   "outputs": [
    {
     "name": "stderr",
     "output_type": "stream",
     "text": [
      "┌ Info: Precompiling JuMP [4076af6c-e467-56ae-b986-b466b2749572]\n",
      "└ @ Base loading.jl:1192\n",
      "ERROR: LoadError: ArgumentError: Package MutableArithmetics [d8a4904e-b15c-11e9-3269-09a3773c0cb0] is required but does not seem to be installed:\n",
      " - Run `Pkg.instantiate()` to install all recorded dependencies.\n",
      "\n",
      "Stacktrace:\n",
      " [1] _require(::Base.PkgId) at ./loading.jl:929\n",
      " [2] require(::Base.PkgId) at ./loading.jl:858\n",
      " [3] require(::Module, ::Symbol) at ./loading.jl:853\n",
      " [4] include at ./boot.jl:317 [inlined]\n",
      " [5] include_relative(::Module, ::String) at ./loading.jl:1044\n",
      " [6] include(::Module, ::String) at ./sysimg.jl:29\n",
      " [7] top-level scope at none:2\n",
      " [8] eval at ./boot.jl:319 [inlined]\n",
      " [9] eval(::Expr) at ./client.jl:393\n",
      " [10] top-level scope at ./none:3\n",
      "in expression starting at /home/mbesancon/.julia/packages/JuMP/CZ8vV/src/JuMP.jl:16\n"
     ]
    },
    {
     "ename": "ErrorException",
     "evalue": "Failed to precompile JuMP [4076af6c-e467-56ae-b986-b466b2749572] to /home/mbesancon/.julia/compiled/v1.0/JuMP/DmXqY.ji.",
     "output_type": "error",
     "traceback": [
      "Failed to precompile JuMP [4076af6c-e467-56ae-b986-b466b2749572] to /home/mbesancon/.julia/compiled/v1.0/JuMP/DmXqY.ji.",
      "",
      "Stacktrace:",
      " [1] error(::String) at ./error.jl:33",
      " [2] compilecache(::Base.PkgId, ::String) at ./loading.jl:1203",
      " [3] _require(::Base.PkgId) at ./loading.jl:960",
      " [4] require(::Base.PkgId) at ./loading.jl:858",
      " [5] require(::Module, ::Symbol) at ./loading.jl:853",
      " [6] top-level scope at In[2]:1"
     ]
    }
   ],
   "source": [
    "# Loading the necessary packages\n",
    "#-------------------------------\n",
    "using JuMP \n",
    "using GLPK\n",
    "using LinearAlgebra\n",
    "using Test"
   ]
  },
  {
   "cell_type": "markdown",
   "metadata": {},
   "source": [
    "Subproblem creation"
   ]
  },
  {
   "cell_type": "code",
   "execution_count": 3,
   "metadata": {},
   "outputs": [
    {
     "ename": "LoadError",
     "evalue": "UndefVarError: @variable not defined",
     "output_type": "error",
     "traceback": [
      "UndefVarError: @variable not defined",
      ""
     ]
    }
   ],
   "source": [
    "function build_subproblem()\n",
    "    sub_problem_model = Model(GLPK.Optimizer)\n",
    "    @variable(sub_problem_model, u[1:dim_u] >= 0)\n",
    "    @constraint(sub_problem_model, constr_ref_subproblem[j = 1:size(A2, 2)], dot(A2[:, j], u) >= c2[j])\n",
    "    return (sub_problem_model, u)\n",
    "end\n",
    "\n",
    "# Master Problem Description\n",
    "# --------------------------\n",
    "\n",
    "master_problem_model = Model(GLPK.Optimizer)\n",
    "(sub_problem_model, u) = build_subproblem()\n",
    "\n",
    "# Variable Definition \n",
    "# ----------------------------------------------------------------\n",
    "@variable(master_problem_model, 0 <= x[1:dim_x] <= 1e6, Int) \n",
    "@variable(master_problem_model, t <= 1e6)\n",
    "\n",
    "# Objective Setting\n",
    "# -----------------\n",
    "@objective(master_problem_model, Max, t)\n",
    "\n",
    "print(master_problem_model)"
   ]
  },
  {
   "cell_type": "markdown",
   "metadata": {},
   "source": [
    "Track the calls to the callback"
   ]
  },
  {
   "cell_type": "code",
   "execution_count": 4,
   "metadata": {},
   "outputs": [
    {
     "data": {
      "text/plain": [
       "0"
      ]
     },
     "execution_count": 4,
     "metadata": {},
     "output_type": "execute_result"
    }
   ],
   "source": [
    "iter_num = 0"
   ]
  },
  {
   "cell_type": "markdown",
   "metadata": {},
   "source": [
    "Define lazy constraints"
   ]
  },
  {
   "cell_type": "code",
   "execution_count": 5,
   "metadata": {},
   "outputs": [
    {
     "ename": "LoadError",
     "evalue": "UndefVarError: @objective not defined",
     "output_type": "error",
     "traceback": [
      "UndefVarError: @objective not defined",
      ""
     ]
    }
   ],
   "source": [
    "function benders_lazy_constraint_callback(cb_data)\n",
    "    global iter_num\n",
    "    iter_num += 1\n",
    "    println(\"Iteration number = \", iter_num)\n",
    "\n",
    "    x_current = [callback_value(cb_data, x[j]) for j in eachindex(x)]\n",
    "    fm_current = callback_value(cb_data, t)\n",
    "    \n",
    "    c_sub = b - A1 * x_current\n",
    "    @objective(sub_problem_model, Min, dot(c1, x_current) + dot(c_sub, u))\n",
    "    optimize!(sub_problem_model)\n",
    "\n",
    "    print(\"\\nThe current subproblem model is \\n\", sub_problem_model)\n",
    "\n",
    "    t_status_sub = termination_status(sub_problem_model)\n",
    "    p_status_sub = primal_status(sub_problem_model)\n",
    "\n",
    "    fs_x_current = objective_value(sub_problem_model) \n",
    "\n",
    "    u_current = value.(u)\n",
    "\n",
    "    γ = dot(b, u_current)\n",
    "    \n",
    "    if p_status_sub == MOI.FEASIBLE_POINT && fs_x_current  ≈  fm_current # we are done\n",
    "        @info(\"No additional constraint from the subproblem\")\n",
    "        # println(\"Optimal solution of the original problem found\")\n",
    "        # println(\"The optimal objective value t is \", fm_current)\n",
    "        # println(\"The optimal x is \", x_current)\n",
    "        # println(\"The optimal v is \", dual.(constr_ref_subproblem))\n",
    "    end \n",
    "    \n",
    "    if p_status_sub == MOI.FEASIBLE_POINT && fs_x_current < fm_current\n",
    "        println(\"\\nThere is a suboptimal vertex, add the corresponding constraint\")\n",
    "        cv = A1' * u_current - c1\n",
    "        new_optimality_cons = @build_constraint(t + dot(cv, x) <= γ)\n",
    "        MOI.submit(master_problem_model, MOI.LazyConstraint(cb_data), new_optimality_cons)\n",
    "    end \n",
    "    \n",
    "    if t_status_sub == MOI.INFEASIBLE_OR_UNBOUNDED\n",
    "        println(\"\\nThere is an  extreme ray, adding the corresponding constraint\")\n",
    "        ce = A1' * u_current\n",
    "        new_feasibility_cons = @build_constraint(dot(ce, x) <= γ)\n",
    "        MOI.submit(master_problem_model, MOI.LazyConstraint(cb_data), new_feasibility_cons)\n",
    "    end\n",
    "end\n",
    "\n",
    "MOI.set(master_problem_model, MOI.LazyConstraintCallback(), benders_lazy_constraint_callback)\n",
    "     \n",
    "optimize!(master_problem_model)\n",
    "    \n",
    "t_status = termination_status(master_problem_model)\n",
    "p_status = primal_status(master_problem_model)\n",
    "\n",
    "if p_status == MOI.INFEASIBLE_POINT\n",
    "    println(\"The problem is infeasible :-(\")\n",
    "end\n",
    "\n",
    "if t_status == MOI.INFEASIBLE_OR_UNBOUNDED\n",
    "    fm_current = M\n",
    "    x_current = M * ones(dim_x)\n",
    "end\n",
    "\n",
    "if p_status == MOI.FEASIBLE_POINT\n",
    "    fm_current = value(t)\n",
    "    x_current = Float64[]\n",
    "        for i in 1:dim_x\n",
    "        push!(x_current, value(x[i]))\n",
    "    end\n",
    "end\n",
    "\n",
    "println(\"Status of the master problem is \", t_status, \n",
    "        \"\\nwith fm_current = \", fm_current, \n",
    "        \"\\nx_current = \", x_current)\n",
    "\n",
    "@test value(t) ≈ -4"
   ]
  },
  {
   "cell_type": "markdown",
   "metadata": {},
   "source": [
    "### References\n",
    "<a id='c1'></a>\n",
    "1. Garfinkel, R. & Nemhauser, G. L. Integer programming. (Wiley, 1972)."
   ]
  },
  {
   "cell_type": "code",
   "execution_count": null,
   "metadata": {},
   "outputs": [],
   "source": []
  }
 ],
 "metadata": {
  "kernelspec": {
   "display_name": "Julia 1.0.5",
   "language": "julia",
   "name": "julia-1.0"
  },
  "language_info": {
   "file_extension": ".jl",
   "mimetype": "application/julia",
   "name": "julia",
   "version": "1.0.5"
  }
 },
 "nbformat": 4,
 "nbformat_minor": 2
}
